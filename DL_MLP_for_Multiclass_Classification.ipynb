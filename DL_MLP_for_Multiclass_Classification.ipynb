{
  "nbformat": 4,
  "nbformat_minor": 0,
  "metadata": {
    "colab": {
      "provenance": [],
      "gpuType": "T4"
    },
    "kernelspec": {
      "name": "python3",
      "display_name": "Python 3"
    },
    "language_info": {
      "name": "python"
    },
    "accelerator": "GPU"
  },
  "cells": [
    {
      "cell_type": "code",
      "execution_count": 1,
      "metadata": {
        "id": "wet5AvPHmh1n"
      },
      "outputs": [],
      "source": [
        "import pandas as pd\n",
        "import numpy as np\n",
        "import os\n",
        "\n",
        "# Plotting libraries\n",
        "import matplotlib.pyplot as plt\n",
        "\n",
        "\n",
        "# SKLearn libraries\n",
        "from sklearn.preprocessing import LabelEncoder\n",
        "from sklearn.model_selection import train_test_split\n",
        "\n",
        "# Tensorflow libraries\n",
        "import tensorflow as tf\n",
        "from tensorflow import keras\n",
        "from tensorflow.keras.models import Sequential\n",
        "from tensorflow.keras.initializers import HeNormal"
      ]
    },
    {
      "cell_type": "code",
      "source": [
        "#downloading data\n",
        "!wget \"https://raw.githubusercontent.com/jbrownlee/Datasets/master/iris.csv\""
      ],
      "metadata": {
        "colab": {
          "base_uri": "https://localhost:8080/"
        },
        "id": "rohvkhjemp_Y",
        "outputId": "dd8570d2-0fa5-45d1-e67f-5b0132cff23c"
      },
      "execution_count": 2,
      "outputs": [
        {
          "output_type": "stream",
          "name": "stdout",
          "text": [
            "--2024-01-05 17:16:18--  https://raw.githubusercontent.com/jbrownlee/Datasets/master/iris.csv\n",
            "Resolving raw.githubusercontent.com (raw.githubusercontent.com)... 185.199.108.133, 185.199.109.133, 185.199.110.133, ...\n",
            "Connecting to raw.githubusercontent.com (raw.githubusercontent.com)|185.199.108.133|:443... connected.\n",
            "HTTP request sent, awaiting response... 200 OK\n",
            "Length: 4549 (4.4K) [text/plain]\n",
            "Saving to: ‘iris.csv’\n",
            "\n",
            "iris.csv            100%[===================>]   4.44K  --.-KB/s    in 0s      \n",
            "\n",
            "2024-01-05 17:16:18 (55.6 MB/s) - ‘iris.csv’ saved [4549/4549]\n",
            "\n"
          ]
        }
      ]
    },
    {
      "cell_type": "code",
      "source": [
        "#loading data\n",
        "data = pd.read_csv('iris.csv')"
      ],
      "metadata": {
        "id": "wf_qAc5_mzB2"
      },
      "execution_count": 3,
      "outputs": []
    },
    {
      "cell_type": "code",
      "source": [
        "data.head()"
      ],
      "metadata": {
        "colab": {
          "base_uri": "https://localhost:8080/",
          "height": 206
        },
        "id": "-DO6pdyhm5hH",
        "outputId": "600c6d1b-eac1-4787-8350-df4c20b61c9d"
      },
      "execution_count": 4,
      "outputs": [
        {
          "output_type": "execute_result",
          "data": {
            "text/plain": [
              "   5.1  3.5  1.4  0.2  Iris-setosa\n",
              "0  4.9  3.0  1.4  0.2  Iris-setosa\n",
              "1  4.7  3.2  1.3  0.2  Iris-setosa\n",
              "2  4.6  3.1  1.5  0.2  Iris-setosa\n",
              "3  5.0  3.6  1.4  0.2  Iris-setosa\n",
              "4  5.4  3.9  1.7  0.4  Iris-setosa"
            ],
            "text/html": [
              "\n",
              "  <div id=\"df-08e69fe4-841b-4429-bedb-c0e4a837f6c8\" class=\"colab-df-container\">\n",
              "    <div>\n",
              "<style scoped>\n",
              "    .dataframe tbody tr th:only-of-type {\n",
              "        vertical-align: middle;\n",
              "    }\n",
              "\n",
              "    .dataframe tbody tr th {\n",
              "        vertical-align: top;\n",
              "    }\n",
              "\n",
              "    .dataframe thead th {\n",
              "        text-align: right;\n",
              "    }\n",
              "</style>\n",
              "<table border=\"1\" class=\"dataframe\">\n",
              "  <thead>\n",
              "    <tr style=\"text-align: right;\">\n",
              "      <th></th>\n",
              "      <th>5.1</th>\n",
              "      <th>3.5</th>\n",
              "      <th>1.4</th>\n",
              "      <th>0.2</th>\n",
              "      <th>Iris-setosa</th>\n",
              "    </tr>\n",
              "  </thead>\n",
              "  <tbody>\n",
              "    <tr>\n",
              "      <th>0</th>\n",
              "      <td>4.9</td>\n",
              "      <td>3.0</td>\n",
              "      <td>1.4</td>\n",
              "      <td>0.2</td>\n",
              "      <td>Iris-setosa</td>\n",
              "    </tr>\n",
              "    <tr>\n",
              "      <th>1</th>\n",
              "      <td>4.7</td>\n",
              "      <td>3.2</td>\n",
              "      <td>1.3</td>\n",
              "      <td>0.2</td>\n",
              "      <td>Iris-setosa</td>\n",
              "    </tr>\n",
              "    <tr>\n",
              "      <th>2</th>\n",
              "      <td>4.6</td>\n",
              "      <td>3.1</td>\n",
              "      <td>1.5</td>\n",
              "      <td>0.2</td>\n",
              "      <td>Iris-setosa</td>\n",
              "    </tr>\n",
              "    <tr>\n",
              "      <th>3</th>\n",
              "      <td>5.0</td>\n",
              "      <td>3.6</td>\n",
              "      <td>1.4</td>\n",
              "      <td>0.2</td>\n",
              "      <td>Iris-setosa</td>\n",
              "    </tr>\n",
              "    <tr>\n",
              "      <th>4</th>\n",
              "      <td>5.4</td>\n",
              "      <td>3.9</td>\n",
              "      <td>1.7</td>\n",
              "      <td>0.4</td>\n",
              "      <td>Iris-setosa</td>\n",
              "    </tr>\n",
              "  </tbody>\n",
              "</table>\n",
              "</div>\n",
              "    <div class=\"colab-df-buttons\">\n",
              "\n",
              "  <div class=\"colab-df-container\">\n",
              "    <button class=\"colab-df-convert\" onclick=\"convertToInteractive('df-08e69fe4-841b-4429-bedb-c0e4a837f6c8')\"\n",
              "            title=\"Convert this dataframe to an interactive table.\"\n",
              "            style=\"display:none;\">\n",
              "\n",
              "  <svg xmlns=\"http://www.w3.org/2000/svg\" height=\"24px\" viewBox=\"0 -960 960 960\">\n",
              "    <path d=\"M120-120v-720h720v720H120Zm60-500h600v-160H180v160Zm220 220h160v-160H400v160Zm0 220h160v-160H400v160ZM180-400h160v-160H180v160Zm440 0h160v-160H620v160ZM180-180h160v-160H180v160Zm440 0h160v-160H620v160Z\"/>\n",
              "  </svg>\n",
              "    </button>\n",
              "\n",
              "  <style>\n",
              "    .colab-df-container {\n",
              "      display:flex;\n",
              "      gap: 12px;\n",
              "    }\n",
              "\n",
              "    .colab-df-convert {\n",
              "      background-color: #E8F0FE;\n",
              "      border: none;\n",
              "      border-radius: 50%;\n",
              "      cursor: pointer;\n",
              "      display: none;\n",
              "      fill: #1967D2;\n",
              "      height: 32px;\n",
              "      padding: 0 0 0 0;\n",
              "      width: 32px;\n",
              "    }\n",
              "\n",
              "    .colab-df-convert:hover {\n",
              "      background-color: #E2EBFA;\n",
              "      box-shadow: 0px 1px 2px rgba(60, 64, 67, 0.3), 0px 1px 3px 1px rgba(60, 64, 67, 0.15);\n",
              "      fill: #174EA6;\n",
              "    }\n",
              "\n",
              "    .colab-df-buttons div {\n",
              "      margin-bottom: 4px;\n",
              "    }\n",
              "\n",
              "    [theme=dark] .colab-df-convert {\n",
              "      background-color: #3B4455;\n",
              "      fill: #D2E3FC;\n",
              "    }\n",
              "\n",
              "    [theme=dark] .colab-df-convert:hover {\n",
              "      background-color: #434B5C;\n",
              "      box-shadow: 0px 1px 3px 1px rgba(0, 0, 0, 0.15);\n",
              "      filter: drop-shadow(0px 1px 2px rgba(0, 0, 0, 0.3));\n",
              "      fill: #FFFFFF;\n",
              "    }\n",
              "  </style>\n",
              "\n",
              "    <script>\n",
              "      const buttonEl =\n",
              "        document.querySelector('#df-08e69fe4-841b-4429-bedb-c0e4a837f6c8 button.colab-df-convert');\n",
              "      buttonEl.style.display =\n",
              "        google.colab.kernel.accessAllowed ? 'block' : 'none';\n",
              "\n",
              "      async function convertToInteractive(key) {\n",
              "        const element = document.querySelector('#df-08e69fe4-841b-4429-bedb-c0e4a837f6c8');\n",
              "        const dataTable =\n",
              "          await google.colab.kernel.invokeFunction('convertToInteractive',\n",
              "                                                    [key], {});\n",
              "        if (!dataTable) return;\n",
              "\n",
              "        const docLinkHtml = 'Like what you see? Visit the ' +\n",
              "          '<a target=\"_blank\" href=https://colab.research.google.com/notebooks/data_table.ipynb>data table notebook</a>'\n",
              "          + ' to learn more about interactive tables.';\n",
              "        element.innerHTML = '';\n",
              "        dataTable['output_type'] = 'display_data';\n",
              "        await google.colab.output.renderOutput(dataTable, element);\n",
              "        const docLink = document.createElement('div');\n",
              "        docLink.innerHTML = docLinkHtml;\n",
              "        element.appendChild(docLink);\n",
              "      }\n",
              "    </script>\n",
              "  </div>\n",
              "\n",
              "\n",
              "<div id=\"df-7f2d2678-1075-48c4-98e9-64ca9b0d3458\">\n",
              "  <button class=\"colab-df-quickchart\" onclick=\"quickchart('df-7f2d2678-1075-48c4-98e9-64ca9b0d3458')\"\n",
              "            title=\"Suggest charts\"\n",
              "            style=\"display:none;\">\n",
              "\n",
              "<svg xmlns=\"http://www.w3.org/2000/svg\" height=\"24px\"viewBox=\"0 0 24 24\"\n",
              "     width=\"24px\">\n",
              "    <g>\n",
              "        <path d=\"M19 3H5c-1.1 0-2 .9-2 2v14c0 1.1.9 2 2 2h14c1.1 0 2-.9 2-2V5c0-1.1-.9-2-2-2zM9 17H7v-7h2v7zm4 0h-2V7h2v10zm4 0h-2v-4h2v4z\"/>\n",
              "    </g>\n",
              "</svg>\n",
              "  </button>\n",
              "\n",
              "<style>\n",
              "  .colab-df-quickchart {\n",
              "      --bg-color: #E8F0FE;\n",
              "      --fill-color: #1967D2;\n",
              "      --hover-bg-color: #E2EBFA;\n",
              "      --hover-fill-color: #174EA6;\n",
              "      --disabled-fill-color: #AAA;\n",
              "      --disabled-bg-color: #DDD;\n",
              "  }\n",
              "\n",
              "  [theme=dark] .colab-df-quickchart {\n",
              "      --bg-color: #3B4455;\n",
              "      --fill-color: #D2E3FC;\n",
              "      --hover-bg-color: #434B5C;\n",
              "      --hover-fill-color: #FFFFFF;\n",
              "      --disabled-bg-color: #3B4455;\n",
              "      --disabled-fill-color: #666;\n",
              "  }\n",
              "\n",
              "  .colab-df-quickchart {\n",
              "    background-color: var(--bg-color);\n",
              "    border: none;\n",
              "    border-radius: 50%;\n",
              "    cursor: pointer;\n",
              "    display: none;\n",
              "    fill: var(--fill-color);\n",
              "    height: 32px;\n",
              "    padding: 0;\n",
              "    width: 32px;\n",
              "  }\n",
              "\n",
              "  .colab-df-quickchart:hover {\n",
              "    background-color: var(--hover-bg-color);\n",
              "    box-shadow: 0 1px 2px rgba(60, 64, 67, 0.3), 0 1px 3px 1px rgba(60, 64, 67, 0.15);\n",
              "    fill: var(--button-hover-fill-color);\n",
              "  }\n",
              "\n",
              "  .colab-df-quickchart-complete:disabled,\n",
              "  .colab-df-quickchart-complete:disabled:hover {\n",
              "    background-color: var(--disabled-bg-color);\n",
              "    fill: var(--disabled-fill-color);\n",
              "    box-shadow: none;\n",
              "  }\n",
              "\n",
              "  .colab-df-spinner {\n",
              "    border: 2px solid var(--fill-color);\n",
              "    border-color: transparent;\n",
              "    border-bottom-color: var(--fill-color);\n",
              "    animation:\n",
              "      spin 1s steps(1) infinite;\n",
              "  }\n",
              "\n",
              "  @keyframes spin {\n",
              "    0% {\n",
              "      border-color: transparent;\n",
              "      border-bottom-color: var(--fill-color);\n",
              "      border-left-color: var(--fill-color);\n",
              "    }\n",
              "    20% {\n",
              "      border-color: transparent;\n",
              "      border-left-color: var(--fill-color);\n",
              "      border-top-color: var(--fill-color);\n",
              "    }\n",
              "    30% {\n",
              "      border-color: transparent;\n",
              "      border-left-color: var(--fill-color);\n",
              "      border-top-color: var(--fill-color);\n",
              "      border-right-color: var(--fill-color);\n",
              "    }\n",
              "    40% {\n",
              "      border-color: transparent;\n",
              "      border-right-color: var(--fill-color);\n",
              "      border-top-color: var(--fill-color);\n",
              "    }\n",
              "    60% {\n",
              "      border-color: transparent;\n",
              "      border-right-color: var(--fill-color);\n",
              "    }\n",
              "    80% {\n",
              "      border-color: transparent;\n",
              "      border-right-color: var(--fill-color);\n",
              "      border-bottom-color: var(--fill-color);\n",
              "    }\n",
              "    90% {\n",
              "      border-color: transparent;\n",
              "      border-bottom-color: var(--fill-color);\n",
              "    }\n",
              "  }\n",
              "</style>\n",
              "\n",
              "  <script>\n",
              "    async function quickchart(key) {\n",
              "      const quickchartButtonEl =\n",
              "        document.querySelector('#' + key + ' button');\n",
              "      quickchartButtonEl.disabled = true;  // To prevent multiple clicks.\n",
              "      quickchartButtonEl.classList.add('colab-df-spinner');\n",
              "      try {\n",
              "        const charts = await google.colab.kernel.invokeFunction(\n",
              "            'suggestCharts', [key], {});\n",
              "      } catch (error) {\n",
              "        console.error('Error during call to suggestCharts:', error);\n",
              "      }\n",
              "      quickchartButtonEl.classList.remove('colab-df-spinner');\n",
              "      quickchartButtonEl.classList.add('colab-df-quickchart-complete');\n",
              "    }\n",
              "    (() => {\n",
              "      let quickchartButtonEl =\n",
              "        document.querySelector('#df-7f2d2678-1075-48c4-98e9-64ca9b0d3458 button');\n",
              "      quickchartButtonEl.style.display =\n",
              "        google.colab.kernel.accessAllowed ? 'block' : 'none';\n",
              "    })();\n",
              "  </script>\n",
              "</div>\n",
              "\n",
              "    </div>\n",
              "  </div>\n"
            ]
          },
          "metadata": {},
          "execution_count": 4
        }
      ]
    },
    {
      "cell_type": "code",
      "source": [
        "#choosing feature and target variables\n",
        "X = data.iloc[:,0:-1]\n",
        "y = data.iloc[:,-1]"
      ],
      "metadata": {
        "id": "LPEjuVFdm9Bj"
      },
      "execution_count": 5,
      "outputs": []
    },
    {
      "cell_type": "code",
      "source": [
        "#str to int\n",
        "from sklearn.preprocessing import LabelEncoder\n",
        "\n",
        "y= LabelEncoder().fit_transform(y)"
      ],
      "metadata": {
        "id": "7xwq54LSnLj0"
      },
      "execution_count": 6,
      "outputs": []
    },
    {
      "cell_type": "code",
      "source": [
        "#splitting dataset for training and testing\n",
        "from sklearn.model_selection import train_test_split\n",
        "\n",
        "X_train,X_test,y_train,y_test = train_test_split(X,y,test_size=0.33,random_state = 0)"
      ],
      "metadata": {
        "id": "pz5wa4JEnccy"
      },
      "execution_count": 7,
      "outputs": []
    },
    {
      "cell_type": "code",
      "source": [
        "X_train.shape"
      ],
      "metadata": {
        "colab": {
          "base_uri": "https://localhost:8080/"
        },
        "id": "cW6uwxt7nul3",
        "outputId": "4f8d6414-a5c3-447e-a811-db2647f9f908"
      },
      "execution_count": 8,
      "outputs": [
        {
          "output_type": "execute_result",
          "data": {
            "text/plain": [
              "(99, 4)"
            ]
          },
          "metadata": {},
          "execution_count": 8
        }
      ]
    },
    {
      "cell_type": "code",
      "source": [
        "X_test.shape"
      ],
      "metadata": {
        "colab": {
          "base_uri": "https://localhost:8080/"
        },
        "id": "akDXidLcnxC9",
        "outputId": "cfe54715-2345-4dc6-f446-1a8195c64285"
      },
      "execution_count": 9,
      "outputs": [
        {
          "output_type": "execute_result",
          "data": {
            "text/plain": [
              "(50, 4)"
            ]
          },
          "metadata": {},
          "execution_count": 9
        }
      ]
    },
    {
      "cell_type": "code",
      "source": [
        "y_train.shape"
      ],
      "metadata": {
        "colab": {
          "base_uri": "https://localhost:8080/"
        },
        "id": "Ka-Ck8wvnztG",
        "outputId": "d47a7896-23d0-409f-add5-49a5fff05d57"
      },
      "execution_count": 10,
      "outputs": [
        {
          "output_type": "execute_result",
          "data": {
            "text/plain": [
              "(99,)"
            ]
          },
          "metadata": {},
          "execution_count": 10
        }
      ]
    },
    {
      "cell_type": "code",
      "source": [
        "y_test.shape"
      ],
      "metadata": {
        "colab": {
          "base_uri": "https://localhost:8080/"
        },
        "id": "6Pl1p4DMn2NJ",
        "outputId": "8a112363-3c3e-41c4-d834-1b1e27777795"
      },
      "execution_count": 11,
      "outputs": [
        {
          "output_type": "execute_result",
          "data": {
            "text/plain": [
              "(50,)"
            ]
          },
          "metadata": {},
          "execution_count": 11
        }
      ]
    },
    {
      "cell_type": "code",
      "source": [
        "#creating model\n",
        "def get_model():\n",
        "    model = Sequential([\n",
        "        keras.layers.Input(shape=X_train.shape[1:]),\n",
        "        keras.layers.Dense(16, activation='relu', kernel_initializer='he_normal'),\n",
        "        keras.layers.Dense(12, activation='relu', kernel_initializer='he_normal'),\n",
        "        keras.layers.Dropout(0.01),\n",
        "        keras.layers.Dense(3, activation='softmax')\n",
        "    ])\n",
        "\n",
        "    return model"
      ],
      "metadata": {
        "id": "fsHCnsnCn71F"
      },
      "execution_count": 12,
      "outputs": []
    },
    {
      "cell_type": "code",
      "source": [
        "model = get_model()"
      ],
      "metadata": {
        "id": "oXxcKt_fqu_k"
      },
      "execution_count": 13,
      "outputs": []
    },
    {
      "cell_type": "code",
      "source": [
        "model.summary()"
      ],
      "metadata": {
        "colab": {
          "base_uri": "https://localhost:8080/"
        },
        "id": "0SpL7cRlrjcl",
        "outputId": "67ffff53-6efc-4a52-b33b-869a3a7a462d"
      },
      "execution_count": 14,
      "outputs": [
        {
          "output_type": "stream",
          "name": "stdout",
          "text": [
            "Model: \"sequential\"\n",
            "_________________________________________________________________\n",
            " Layer (type)                Output Shape              Param #   \n",
            "=================================================================\n",
            " dense (Dense)               (None, 16)                80        \n",
            "                                                                 \n",
            " dense_1 (Dense)             (None, 12)                204       \n",
            "                                                                 \n",
            " dropout (Dropout)           (None, 12)                0         \n",
            "                                                                 \n",
            " dense_2 (Dense)             (None, 3)                 39        \n",
            "                                                                 \n",
            "=================================================================\n",
            "Total params: 323 (1.26 KB)\n",
            "Trainable params: 323 (1.26 KB)\n",
            "Non-trainable params: 0 (0.00 Byte)\n",
            "_________________________________________________________________\n"
          ]
        }
      ]
    },
    {
      "cell_type": "code",
      "source": [
        "#compile model\n",
        "model.compile(optimizer='adam',\n",
        "              loss= 'sparse_categorical_crossentropy',\n",
        "             metrics=['accuracy'])"
      ],
      "metadata": {
        "id": "r_IQTEWFrmiK"
      },
      "execution_count": 15,
      "outputs": []
    },
    {
      "cell_type": "code",
      "source": [
        "history = model.fit(X_train, y_train, epochs=150,batch_size=32, validation_data=(X_test, y_test))"
      ],
      "metadata": {
        "colab": {
          "base_uri": "https://localhost:8080/"
        },
        "id": "hSdDR8FBsKXC",
        "outputId": "514f9f6c-0da8-4166-c224-3d947bf5fc2d"
      },
      "execution_count": 16,
      "outputs": [
        {
          "output_type": "stream",
          "name": "stdout",
          "text": [
            "Epoch 1/150\n",
            "4/4 [==============================] - 6s 207ms/step - loss: 5.8415 - accuracy: 0.3535 - val_loss: 5.9553 - val_accuracy: 0.3000\n",
            "Epoch 2/150\n",
            "4/4 [==============================] - 0s 37ms/step - loss: 5.3493 - accuracy: 0.3535 - val_loss: 5.4415 - val_accuracy: 0.3000\n",
            "Epoch 3/150\n",
            "4/4 [==============================] - 0s 28ms/step - loss: 4.8865 - accuracy: 0.3535 - val_loss: 4.9491 - val_accuracy: 0.3000\n",
            "Epoch 4/150\n",
            "4/4 [==============================] - 0s 27ms/step - loss: 4.3802 - accuracy: 0.3535 - val_loss: 4.4783 - val_accuracy: 0.3000\n",
            "Epoch 5/150\n",
            "4/4 [==============================] - 0s 46ms/step - loss: 3.9487 - accuracy: 0.3535 - val_loss: 4.0293 - val_accuracy: 0.3000\n",
            "Epoch 6/150\n",
            "4/4 [==============================] - 0s 26ms/step - loss: 3.6056 - accuracy: 0.3535 - val_loss: 3.6116 - val_accuracy: 0.3000\n",
            "Epoch 7/150\n",
            "4/4 [==============================] - 0s 30ms/step - loss: 3.2615 - accuracy: 0.3535 - val_loss: 3.2109 - val_accuracy: 0.3000\n",
            "Epoch 8/150\n",
            "4/4 [==============================] - 0s 41ms/step - loss: 2.8201 - accuracy: 0.3535 - val_loss: 2.8512 - val_accuracy: 0.3000\n",
            "Epoch 9/150\n",
            "4/4 [==============================] - 0s 52ms/step - loss: 2.5742 - accuracy: 0.3535 - val_loss: 2.5368 - val_accuracy: 0.3000\n",
            "Epoch 10/150\n",
            "4/4 [==============================] - 0s 40ms/step - loss: 2.2859 - accuracy: 0.3535 - val_loss: 2.2628 - val_accuracy: 0.3000\n",
            "Epoch 11/150\n",
            "4/4 [==============================] - 0s 26ms/step - loss: 2.0059 - accuracy: 0.3535 - val_loss: 2.0282 - val_accuracy: 0.3000\n",
            "Epoch 12/150\n",
            "4/4 [==============================] - 0s 65ms/step - loss: 1.8409 - accuracy: 0.3535 - val_loss: 1.8288 - val_accuracy: 0.3000\n",
            "Epoch 13/150\n",
            "4/4 [==============================] - 0s 44ms/step - loss: 1.6712 - accuracy: 0.3535 - val_loss: 1.6661 - val_accuracy: 0.3000\n",
            "Epoch 14/150\n",
            "4/4 [==============================] - 0s 22ms/step - loss: 1.6289 - accuracy: 0.3434 - val_loss: 1.5330 - val_accuracy: 0.3000\n",
            "Epoch 15/150\n",
            "4/4 [==============================] - 0s 32ms/step - loss: 1.4417 - accuracy: 0.3434 - val_loss: 1.4148 - val_accuracy: 0.3000\n",
            "Epoch 16/150\n",
            "4/4 [==============================] - 0s 52ms/step - loss: 1.3158 - accuracy: 0.3636 - val_loss: 1.3120 - val_accuracy: 0.3000\n",
            "Epoch 17/150\n",
            "4/4 [==============================] - 0s 27ms/step - loss: 1.2628 - accuracy: 0.3535 - val_loss: 1.2318 - val_accuracy: 0.3000\n",
            "Epoch 18/150\n",
            "4/4 [==============================] - 0s 26ms/step - loss: 1.1678 - accuracy: 0.3636 - val_loss: 1.1674 - val_accuracy: 0.3000\n",
            "Epoch 19/150\n",
            "4/4 [==============================] - 0s 22ms/step - loss: 1.1737 - accuracy: 0.3535 - val_loss: 1.1155 - val_accuracy: 0.3000\n",
            "Epoch 20/150\n",
            "4/4 [==============================] - 0s 41ms/step - loss: 1.0565 - accuracy: 0.3535 - val_loss: 1.0713 - val_accuracy: 0.3000\n",
            "Epoch 21/150\n",
            "4/4 [==============================] - 0s 39ms/step - loss: 1.0471 - accuracy: 0.3535 - val_loss: 1.0317 - val_accuracy: 0.3000\n",
            "Epoch 22/150\n",
            "4/4 [==============================] - 0s 21ms/step - loss: 1.0476 - accuracy: 0.3535 - val_loss: 0.9960 - val_accuracy: 0.3000\n",
            "Epoch 23/150\n",
            "4/4 [==============================] - 0s 24ms/step - loss: 1.0044 - accuracy: 0.3535 - val_loss: 0.9577 - val_accuracy: 0.3000\n",
            "Epoch 24/150\n",
            "4/4 [==============================] - 0s 22ms/step - loss: 0.9696 - accuracy: 0.3535 - val_loss: 0.9231 - val_accuracy: 0.3000\n",
            "Epoch 25/150\n",
            "4/4 [==============================] - 0s 27ms/step - loss: 0.8914 - accuracy: 0.3535 - val_loss: 0.8972 - val_accuracy: 0.3200\n",
            "Epoch 26/150\n",
            "4/4 [==============================] - 0s 26ms/step - loss: 0.9010 - accuracy: 0.4343 - val_loss: 0.8761 - val_accuracy: 0.4400\n",
            "Epoch 27/150\n",
            "4/4 [==============================] - 0s 30ms/step - loss: 0.8350 - accuracy: 0.5657 - val_loss: 0.8568 - val_accuracy: 0.5200\n",
            "Epoch 28/150\n",
            "4/4 [==============================] - 0s 22ms/step - loss: 0.8954 - accuracy: 0.6667 - val_loss: 0.8373 - val_accuracy: 0.6200\n",
            "Epoch 29/150\n",
            "4/4 [==============================] - 0s 29ms/step - loss: 0.7889 - accuracy: 0.6667 - val_loss: 0.8175 - val_accuracy: 0.6600\n",
            "Epoch 30/150\n",
            "4/4 [==============================] - 0s 22ms/step - loss: 0.7672 - accuracy: 0.6869 - val_loss: 0.7988 - val_accuracy: 0.6600\n",
            "Epoch 31/150\n",
            "4/4 [==============================] - 0s 21ms/step - loss: 0.7871 - accuracy: 0.7172 - val_loss: 0.7842 - val_accuracy: 0.6400\n",
            "Epoch 32/150\n",
            "4/4 [==============================] - 0s 52ms/step - loss: 0.7517 - accuracy: 0.6768 - val_loss: 0.7729 - val_accuracy: 0.6400\n",
            "Epoch 33/150\n",
            "4/4 [==============================] - 0s 20ms/step - loss: 0.8280 - accuracy: 0.6566 - val_loss: 0.7582 - val_accuracy: 0.6600\n",
            "Epoch 34/150\n",
            "4/4 [==============================] - 0s 21ms/step - loss: 0.7504 - accuracy: 0.6768 - val_loss: 0.7439 - val_accuracy: 0.7000\n",
            "Epoch 35/150\n",
            "4/4 [==============================] - 0s 32ms/step - loss: 0.7140 - accuracy: 0.7374 - val_loss: 0.7298 - val_accuracy: 0.7200\n",
            "Epoch 36/150\n",
            "4/4 [==============================] - 0s 26ms/step - loss: 0.7104 - accuracy: 0.7374 - val_loss: 0.7169 - val_accuracy: 0.7600\n",
            "Epoch 37/150\n",
            "4/4 [==============================] - 0s 29ms/step - loss: 0.6617 - accuracy: 0.7475 - val_loss: 0.7054 - val_accuracy: 0.7600\n",
            "Epoch 38/150\n",
            "4/4 [==============================] - 0s 26ms/step - loss: 0.6535 - accuracy: 0.7374 - val_loss: 0.6934 - val_accuracy: 0.7800\n",
            "Epoch 39/150\n",
            "4/4 [==============================] - 0s 18ms/step - loss: 0.7667 - accuracy: 0.7475 - val_loss: 0.6841 - val_accuracy: 0.7600\n",
            "Epoch 40/150\n",
            "4/4 [==============================] - 0s 17ms/step - loss: 0.6186 - accuracy: 0.7576 - val_loss: 0.6755 - val_accuracy: 0.7200\n",
            "Epoch 41/150\n",
            "4/4 [==============================] - 0s 25ms/step - loss: 0.6957 - accuracy: 0.7576 - val_loss: 0.6668 - val_accuracy: 0.7200\n",
            "Epoch 42/150\n",
            "4/4 [==============================] - 0s 25ms/step - loss: 0.6112 - accuracy: 0.7273 - val_loss: 0.6626 - val_accuracy: 0.6800\n",
            "Epoch 43/150\n",
            "4/4 [==============================] - 0s 27ms/step - loss: 0.6578 - accuracy: 0.6566 - val_loss: 0.6578 - val_accuracy: 0.6400\n",
            "Epoch 44/150\n",
            "4/4 [==============================] - 0s 29ms/step - loss: 0.6371 - accuracy: 0.6667 - val_loss: 0.6516 - val_accuracy: 0.6400\n",
            "Epoch 45/150\n",
            "4/4 [==============================] - 0s 29ms/step - loss: 0.6180 - accuracy: 0.6566 - val_loss: 0.6397 - val_accuracy: 0.6400\n",
            "Epoch 46/150\n",
            "4/4 [==============================] - 0s 65ms/step - loss: 0.5748 - accuracy: 0.7071 - val_loss: 0.6251 - val_accuracy: 0.7000\n",
            "Epoch 47/150\n",
            "4/4 [==============================] - 0s 79ms/step - loss: 0.6197 - accuracy: 0.7071 - val_loss: 0.6115 - val_accuracy: 0.7400\n",
            "Epoch 48/150\n",
            "4/4 [==============================] - 0s 44ms/step - loss: 0.5496 - accuracy: 0.7778 - val_loss: 0.5981 - val_accuracy: 0.8200\n",
            "Epoch 49/150\n",
            "4/4 [==============================] - 0s 50ms/step - loss: 0.5840 - accuracy: 0.8182 - val_loss: 0.5913 - val_accuracy: 0.8200\n",
            "Epoch 50/150\n",
            "4/4 [==============================] - 0s 48ms/step - loss: 0.5444 - accuracy: 0.8081 - val_loss: 0.5864 - val_accuracy: 0.8000\n",
            "Epoch 51/150\n",
            "4/4 [==============================] - 0s 29ms/step - loss: 0.6216 - accuracy: 0.7576 - val_loss: 0.5794 - val_accuracy: 0.8000\n",
            "Epoch 52/150\n",
            "4/4 [==============================] - 0s 67ms/step - loss: 0.5446 - accuracy: 0.7879 - val_loss: 0.5727 - val_accuracy: 0.8000\n",
            "Epoch 53/150\n",
            "4/4 [==============================] - 0s 38ms/step - loss: 0.5357 - accuracy: 0.7677 - val_loss: 0.5657 - val_accuracy: 0.8000\n",
            "Epoch 54/150\n",
            "4/4 [==============================] - 0s 45ms/step - loss: 0.5409 - accuracy: 0.7576 - val_loss: 0.5538 - val_accuracy: 0.8200\n",
            "Epoch 55/150\n",
            "4/4 [==============================] - 0s 57ms/step - loss: 0.5240 - accuracy: 0.8485 - val_loss: 0.5418 - val_accuracy: 0.8800\n",
            "Epoch 56/150\n",
            "4/4 [==============================] - 0s 44ms/step - loss: 0.5070 - accuracy: 0.9192 - val_loss: 0.5324 - val_accuracy: 0.9400\n",
            "Epoch 57/150\n",
            "4/4 [==============================] - 0s 30ms/step - loss: 0.5539 - accuracy: 0.9192 - val_loss: 0.5251 - val_accuracy: 0.9400\n",
            "Epoch 58/150\n",
            "4/4 [==============================] - 0s 52ms/step - loss: 0.4933 - accuracy: 0.9293 - val_loss: 0.5230 - val_accuracy: 0.8800\n",
            "Epoch 59/150\n",
            "4/4 [==============================] - 0s 52ms/step - loss: 0.4944 - accuracy: 0.8687 - val_loss: 0.5223 - val_accuracy: 0.8600\n",
            "Epoch 60/150\n",
            "4/4 [==============================] - 0s 91ms/step - loss: 0.4500 - accuracy: 0.8586 - val_loss: 0.5248 - val_accuracy: 0.7800\n",
            "Epoch 61/150\n",
            "4/4 [==============================] - 0s 43ms/step - loss: 0.4841 - accuracy: 0.7778 - val_loss: 0.5189 - val_accuracy: 0.7800\n",
            "Epoch 62/150\n",
            "4/4 [==============================] - 0s 34ms/step - loss: 0.5992 - accuracy: 0.7576 - val_loss: 0.5063 - val_accuracy: 0.8600\n",
            "Epoch 63/150\n",
            "4/4 [==============================] - 0s 42ms/step - loss: 0.4517 - accuracy: 0.8384 - val_loss: 0.4972 - val_accuracy: 0.8600\n",
            "Epoch 64/150\n",
            "4/4 [==============================] - 0s 46ms/step - loss: 0.4874 - accuracy: 0.8889 - val_loss: 0.4861 - val_accuracy: 0.9000\n",
            "Epoch 65/150\n",
            "4/4 [==============================] - 0s 42ms/step - loss: 0.4679 - accuracy: 0.9394 - val_loss: 0.4788 - val_accuracy: 0.9600\n",
            "Epoch 66/150\n",
            "4/4 [==============================] - 0s 48ms/step - loss: 0.4301 - accuracy: 0.9697 - val_loss: 0.4746 - val_accuracy: 0.9600\n",
            "Epoch 67/150\n",
            "4/4 [==============================] - 0s 56ms/step - loss: 0.4500 - accuracy: 0.9293 - val_loss: 0.4703 - val_accuracy: 0.9600\n",
            "Epoch 68/150\n",
            "4/4 [==============================] - 0s 46ms/step - loss: 0.4924 - accuracy: 0.8990 - val_loss: 0.4649 - val_accuracy: 0.9600\n",
            "Epoch 69/150\n",
            "4/4 [==============================] - 0s 59ms/step - loss: 0.4358 - accuracy: 0.9394 - val_loss: 0.4602 - val_accuracy: 0.9600\n",
            "Epoch 70/150\n",
            "4/4 [==============================] - 0s 48ms/step - loss: 0.4530 - accuracy: 0.8990 - val_loss: 0.4548 - val_accuracy: 0.9600\n",
            "Epoch 71/150\n",
            "4/4 [==============================] - 0s 24ms/step - loss: 0.4355 - accuracy: 0.9596 - val_loss: 0.4497 - val_accuracy: 0.9600\n",
            "Epoch 72/150\n",
            "4/4 [==============================] - 0s 51ms/step - loss: 0.3978 - accuracy: 0.9899 - val_loss: 0.4458 - val_accuracy: 0.9600\n",
            "Epoch 73/150\n",
            "4/4 [==============================] - 0s 24ms/step - loss: 0.4145 - accuracy: 0.9697 - val_loss: 0.4442 - val_accuracy: 0.9600\n",
            "Epoch 74/150\n",
            "4/4 [==============================] - 0s 22ms/step - loss: 0.4024 - accuracy: 0.9394 - val_loss: 0.4444 - val_accuracy: 0.9000\n",
            "Epoch 75/150\n",
            "4/4 [==============================] - 0s 20ms/step - loss: 0.4179 - accuracy: 0.8788 - val_loss: 0.4423 - val_accuracy: 0.9000\n",
            "Epoch 76/150\n",
            "4/4 [==============================] - 0s 30ms/step - loss: 0.4132 - accuracy: 0.8889 - val_loss: 0.4349 - val_accuracy: 0.9000\n",
            "Epoch 77/150\n",
            "4/4 [==============================] - 0s 29ms/step - loss: 0.4109 - accuracy: 0.9394 - val_loss: 0.4282 - val_accuracy: 0.9400\n",
            "Epoch 78/150\n",
            "4/4 [==============================] - 0s 20ms/step - loss: 0.4096 - accuracy: 0.9293 - val_loss: 0.4245 - val_accuracy: 0.9400\n",
            "Epoch 79/150\n",
            "4/4 [==============================] - 0s 27ms/step - loss: 0.3786 - accuracy: 0.9495 - val_loss: 0.4236 - val_accuracy: 0.9000\n",
            "Epoch 80/150\n",
            "4/4 [==============================] - 0s 25ms/step - loss: 0.3815 - accuracy: 0.9394 - val_loss: 0.4187 - val_accuracy: 0.9000\n",
            "Epoch 81/150\n",
            "4/4 [==============================] - 0s 32ms/step - loss: 0.3779 - accuracy: 0.9293 - val_loss: 0.4148 - val_accuracy: 0.9000\n",
            "Epoch 82/150\n",
            "4/4 [==============================] - 0s 25ms/step - loss: 0.3889 - accuracy: 0.9192 - val_loss: 0.4131 - val_accuracy: 0.9000\n",
            "Epoch 83/150\n",
            "4/4 [==============================] - 0s 31ms/step - loss: 0.3659 - accuracy: 0.9293 - val_loss: 0.4104 - val_accuracy: 0.9000\n",
            "Epoch 84/150\n",
            "4/4 [==============================] - 0s 28ms/step - loss: 0.4117 - accuracy: 0.8889 - val_loss: 0.4088 - val_accuracy: 0.9000\n",
            "Epoch 85/150\n",
            "4/4 [==============================] - 0s 39ms/step - loss: 0.4126 - accuracy: 0.8687 - val_loss: 0.4073 - val_accuracy: 0.9000\n",
            "Epoch 86/150\n",
            "4/4 [==============================] - 0s 23ms/step - loss: 0.3685 - accuracy: 0.9192 - val_loss: 0.3984 - val_accuracy: 0.9000\n",
            "Epoch 87/150\n",
            "4/4 [==============================] - 0s 39ms/step - loss: 0.3691 - accuracy: 0.9394 - val_loss: 0.3884 - val_accuracy: 0.9600\n",
            "Epoch 88/150\n",
            "4/4 [==============================] - 0s 40ms/step - loss: 0.3849 - accuracy: 0.9596 - val_loss: 0.3845 - val_accuracy: 0.9600\n",
            "Epoch 89/150\n",
            "4/4 [==============================] - 0s 40ms/step - loss: 0.3625 - accuracy: 0.9596 - val_loss: 0.3814 - val_accuracy: 0.9600\n",
            "Epoch 90/150\n",
            "4/4 [==============================] - 0s 29ms/step - loss: 0.3641 - accuracy: 0.9495 - val_loss: 0.3806 - val_accuracy: 0.9600\n",
            "Epoch 91/150\n",
            "4/4 [==============================] - 0s 39ms/step - loss: 0.3431 - accuracy: 0.9394 - val_loss: 0.3797 - val_accuracy: 0.9400\n",
            "Epoch 92/150\n",
            "4/4 [==============================] - 0s 28ms/step - loss: 0.3420 - accuracy: 0.9394 - val_loss: 0.3805 - val_accuracy: 0.9000\n",
            "Epoch 93/150\n",
            "4/4 [==============================] - 0s 18ms/step - loss: 0.4268 - accuracy: 0.9192 - val_loss: 0.3789 - val_accuracy: 0.9000\n",
            "Epoch 94/150\n",
            "4/4 [==============================] - 0s 24ms/step - loss: 0.3420 - accuracy: 0.9495 - val_loss: 0.3721 - val_accuracy: 0.9000\n",
            "Epoch 95/150\n",
            "4/4 [==============================] - 0s 23ms/step - loss: 0.4007 - accuracy: 0.9192 - val_loss: 0.3686 - val_accuracy: 0.9400\n",
            "Epoch 96/150\n",
            "4/4 [==============================] - 0s 28ms/step - loss: 0.3719 - accuracy: 0.9495 - val_loss: 0.3620 - val_accuracy: 0.9600\n",
            "Epoch 97/150\n",
            "4/4 [==============================] - 0s 24ms/step - loss: 0.3345 - accuracy: 0.9596 - val_loss: 0.3585 - val_accuracy: 0.9600\n",
            "Epoch 98/150\n",
            "4/4 [==============================] - 0s 28ms/step - loss: 0.3275 - accuracy: 0.9495 - val_loss: 0.3546 - val_accuracy: 0.9600\n",
            "Epoch 99/150\n",
            "4/4 [==============================] - 0s 30ms/step - loss: 0.3680 - accuracy: 0.9394 - val_loss: 0.3525 - val_accuracy: 0.9600\n",
            "Epoch 100/150\n",
            "4/4 [==============================] - 0s 36ms/step - loss: 0.3280 - accuracy: 0.9697 - val_loss: 0.3529 - val_accuracy: 0.9600\n",
            "Epoch 101/150\n",
            "4/4 [==============================] - 0s 40ms/step - loss: 0.3607 - accuracy: 0.9293 - val_loss: 0.3532 - val_accuracy: 0.9200\n",
            "Epoch 102/150\n",
            "4/4 [==============================] - 0s 34ms/step - loss: 0.3839 - accuracy: 0.9091 - val_loss: 0.3472 - val_accuracy: 0.9600\n",
            "Epoch 103/150\n",
            "4/4 [==============================] - 0s 30ms/step - loss: 0.3380 - accuracy: 0.9495 - val_loss: 0.3414 - val_accuracy: 0.9600\n",
            "Epoch 104/150\n",
            "4/4 [==============================] - 0s 21ms/step - loss: 0.3514 - accuracy: 0.9394 - val_loss: 0.3386 - val_accuracy: 0.9600\n",
            "Epoch 105/150\n",
            "4/4 [==============================] - 0s 12ms/step - loss: 0.3095 - accuracy: 0.9697 - val_loss: 0.3361 - val_accuracy: 0.9600\n",
            "Epoch 106/150\n",
            "4/4 [==============================] - 0s 17ms/step - loss: 0.4107 - accuracy: 0.9091 - val_loss: 0.3347 - val_accuracy: 0.9600\n",
            "Epoch 107/150\n",
            "4/4 [==============================] - 0s 12ms/step - loss: 0.3314 - accuracy: 0.9495 - val_loss: 0.3324 - val_accuracy: 0.9600\n",
            "Epoch 108/150\n",
            "4/4 [==============================] - 0s 16ms/step - loss: 0.3219 - accuracy: 0.9495 - val_loss: 0.3306 - val_accuracy: 0.9600\n",
            "Epoch 109/150\n",
            "4/4 [==============================] - 0s 11ms/step - loss: 0.3534 - accuracy: 0.9495 - val_loss: 0.3262 - val_accuracy: 0.9600\n",
            "Epoch 110/150\n",
            "4/4 [==============================] - 0s 11ms/step - loss: 0.3031 - accuracy: 0.9596 - val_loss: 0.3233 - val_accuracy: 0.9600\n",
            "Epoch 111/150\n",
            "4/4 [==============================] - 0s 11ms/step - loss: 0.2989 - accuracy: 0.9697 - val_loss: 0.3205 - val_accuracy: 0.9600\n",
            "Epoch 112/150\n",
            "4/4 [==============================] - 0s 13ms/step - loss: 0.3073 - accuracy: 0.9697 - val_loss: 0.3173 - val_accuracy: 0.9600\n",
            "Epoch 113/150\n",
            "4/4 [==============================] - 0s 20ms/step - loss: 0.3107 - accuracy: 0.9596 - val_loss: 0.3183 - val_accuracy: 0.9600\n",
            "Epoch 114/150\n",
            "4/4 [==============================] - 0s 11ms/step - loss: 0.2992 - accuracy: 0.9394 - val_loss: 0.3251 - val_accuracy: 0.9000\n",
            "Epoch 115/150\n",
            "4/4 [==============================] - 0s 11ms/step - loss: 0.3388 - accuracy: 0.9293 - val_loss: 0.3225 - val_accuracy: 0.9000\n",
            "Epoch 116/150\n",
            "4/4 [==============================] - 0s 17ms/step - loss: 0.3076 - accuracy: 0.9293 - val_loss: 0.3165 - val_accuracy: 0.9400\n",
            "Epoch 117/150\n",
            "4/4 [==============================] - 0s 11ms/step - loss: 0.3203 - accuracy: 0.9293 - val_loss: 0.3143 - val_accuracy: 0.9400\n",
            "Epoch 118/150\n",
            "4/4 [==============================] - 0s 11ms/step - loss: 0.3291 - accuracy: 0.9394 - val_loss: 0.3102 - val_accuracy: 0.9400\n",
            "Epoch 119/150\n",
            "4/4 [==============================] - 0s 11ms/step - loss: 0.2857 - accuracy: 0.9495 - val_loss: 0.3021 - val_accuracy: 0.9600\n",
            "Epoch 120/150\n",
            "4/4 [==============================] - 0s 12ms/step - loss: 0.3281 - accuracy: 0.9596 - val_loss: 0.2984 - val_accuracy: 0.9800\n",
            "Epoch 121/150\n",
            "4/4 [==============================] - 0s 17ms/step - loss: 0.2863 - accuracy: 0.9697 - val_loss: 0.2964 - val_accuracy: 0.9800\n",
            "Epoch 122/150\n",
            "4/4 [==============================] - 0s 17ms/step - loss: 0.2791 - accuracy: 0.9697 - val_loss: 0.2941 - val_accuracy: 0.9800\n",
            "Epoch 123/150\n",
            "4/4 [==============================] - 0s 17ms/step - loss: 0.2816 - accuracy: 0.9798 - val_loss: 0.2918 - val_accuracy: 0.9800\n",
            "Epoch 124/150\n",
            "4/4 [==============================] - 0s 11ms/step - loss: 0.3088 - accuracy: 0.9596 - val_loss: 0.2897 - val_accuracy: 0.9800\n",
            "Epoch 125/150\n",
            "4/4 [==============================] - 0s 17ms/step - loss: 0.2680 - accuracy: 0.9697 - val_loss: 0.2886 - val_accuracy: 0.9600\n",
            "Epoch 126/150\n",
            "4/4 [==============================] - 0s 17ms/step - loss: 0.2688 - accuracy: 0.9596 - val_loss: 0.2864 - val_accuracy: 0.9800\n",
            "Epoch 127/150\n",
            "4/4 [==============================] - 0s 12ms/step - loss: 0.2784 - accuracy: 0.9495 - val_loss: 0.2845 - val_accuracy: 0.9800\n",
            "Epoch 128/150\n",
            "4/4 [==============================] - 0s 17ms/step - loss: 0.2800 - accuracy: 0.9495 - val_loss: 0.2829 - val_accuracy: 0.9600\n",
            "Epoch 129/150\n",
            "4/4 [==============================] - 0s 17ms/step - loss: 0.2692 - accuracy: 0.9697 - val_loss: 0.2817 - val_accuracy: 0.9600\n",
            "Epoch 130/150\n",
            "4/4 [==============================] - 0s 12ms/step - loss: 0.2554 - accuracy: 0.9697 - val_loss: 0.2788 - val_accuracy: 0.9800\n",
            "Epoch 131/150\n",
            "4/4 [==============================] - 0s 12ms/step - loss: 0.2881 - accuracy: 0.9495 - val_loss: 0.2769 - val_accuracy: 0.9800\n",
            "Epoch 132/150\n",
            "4/4 [==============================] - 0s 12ms/step - loss: 0.3010 - accuracy: 0.9394 - val_loss: 0.2766 - val_accuracy: 0.9600\n",
            "Epoch 133/150\n",
            "4/4 [==============================] - 0s 15ms/step - loss: 0.2520 - accuracy: 0.9697 - val_loss: 0.2766 - val_accuracy: 0.9600\n",
            "Epoch 134/150\n",
            "4/4 [==============================] - 0s 17ms/step - loss: 0.2834 - accuracy: 0.9495 - val_loss: 0.2720 - val_accuracy: 0.9600\n",
            "Epoch 135/150\n",
            "4/4 [==============================] - 0s 13ms/step - loss: 0.2790 - accuracy: 0.9596 - val_loss: 0.2691 - val_accuracy: 0.9800\n",
            "Epoch 136/150\n",
            "4/4 [==============================] - 0s 17ms/step - loss: 0.2522 - accuracy: 0.9798 - val_loss: 0.2672 - val_accuracy: 0.9800\n",
            "Epoch 137/150\n",
            "4/4 [==============================] - 0s 17ms/step - loss: 0.2502 - accuracy: 0.9697 - val_loss: 0.2656 - val_accuracy: 0.9800\n",
            "Epoch 138/150\n",
            "4/4 [==============================] - 0s 17ms/step - loss: 0.2412 - accuracy: 0.9697 - val_loss: 0.2643 - val_accuracy: 0.9800\n",
            "Epoch 139/150\n",
            "4/4 [==============================] - 0s 18ms/step - loss: 0.3049 - accuracy: 0.9495 - val_loss: 0.2633 - val_accuracy: 0.9600\n",
            "Epoch 140/150\n",
            "4/4 [==============================] - 0s 13ms/step - loss: 0.2816 - accuracy: 0.9495 - val_loss: 0.2645 - val_accuracy: 0.9600\n",
            "Epoch 141/150\n",
            "4/4 [==============================] - 0s 12ms/step - loss: 0.3027 - accuracy: 0.9293 - val_loss: 0.2709 - val_accuracy: 0.9400\n",
            "Epoch 142/150\n",
            "4/4 [==============================] - 0s 17ms/step - loss: 0.2550 - accuracy: 0.9495 - val_loss: 0.2711 - val_accuracy: 0.9200\n",
            "Epoch 143/150\n",
            "4/4 [==============================] - 0s 12ms/step - loss: 0.2368 - accuracy: 0.9495 - val_loss: 0.2695 - val_accuracy: 0.9200\n",
            "Epoch 144/150\n",
            "4/4 [==============================] - 0s 13ms/step - loss: 0.2707 - accuracy: 0.9394 - val_loss: 0.2581 - val_accuracy: 0.9600\n",
            "Epoch 145/150\n",
            "4/4 [==============================] - 0s 13ms/step - loss: 0.2424 - accuracy: 0.9596 - val_loss: 0.2521 - val_accuracy: 0.9800\n",
            "Epoch 146/150\n",
            "4/4 [==============================] - 0s 14ms/step - loss: 0.2651 - accuracy: 0.9596 - val_loss: 0.2516 - val_accuracy: 0.9600\n",
            "Epoch 147/150\n",
            "4/4 [==============================] - 0s 12ms/step - loss: 0.2791 - accuracy: 0.9394 - val_loss: 0.2513 - val_accuracy: 0.9600\n",
            "Epoch 148/150\n",
            "4/4 [==============================] - 0s 17ms/step - loss: 0.2344 - accuracy: 0.9596 - val_loss: 0.2506 - val_accuracy: 0.9600\n",
            "Epoch 149/150\n",
            "4/4 [==============================] - 0s 13ms/step - loss: 0.2703 - accuracy: 0.9394 - val_loss: 0.2460 - val_accuracy: 0.9600\n",
            "Epoch 150/150\n",
            "4/4 [==============================] - 0s 17ms/step - loss: 0.3092 - accuracy: 0.9596 - val_loss: 0.2453 - val_accuracy: 0.9800\n"
          ]
        }
      ]
    },
    {
      "cell_type": "code",
      "source": [
        "#model evaluation\n",
        "model.evaluate(X_test, y_test, verbose=0)"
      ],
      "metadata": {
        "colab": {
          "base_uri": "https://localhost:8080/"
        },
        "id": "TluqPvrpsN0d",
        "outputId": "2d90a867-3789-4370-e909-dbede2bf1857"
      },
      "execution_count": 17,
      "outputs": [
        {
          "output_type": "execute_result",
          "data": {
            "text/plain": [
              "[0.2453453093767166, 0.9800000190734863]"
            ]
          },
          "metadata": {},
          "execution_count": 17
        }
      ]
    },
    {
      "cell_type": "code",
      "source": [
        "#loss and accuracy vs epchs graph\n",
        "pd.DataFrame(history.history).plot(figsize=(10,6))\n",
        "plt.grid(True)\n",
        "plt.gca().set_ylim(0, 1)\n",
        "plt.show()"
      ],
      "metadata": {
        "colab": {
          "base_uri": "https://localhost:8080/",
          "height": 416
        },
        "id": "S-puhp3evfhT",
        "outputId": "d114460f-bf7a-49a9-df0f-8b6d150bab76"
      },
      "execution_count": 18,
      "outputs": [
        {
          "output_type": "display_data",
          "data": {
            "text/plain": [
              "<Figure size 1000x600 with 1 Axes>"
            ],
            "image/png": "[encoded data removed]"
          },
          "metadata": {}
        }
      ]
    },
    {
      "cell_type": "code",
      "source": [
        "loss, acc = model.evaluate(X_test, y_test, verbose=0)\n",
        "print('Test Accuracy: {:.2f}%'.format(acc*100))"
      ],
      "metadata": {
        "colab": {
          "base_uri": "https://localhost:8080/"
        },
        "id": "wkVKpcBOvjit",
        "outputId": "9bc395b1-ce4a-4641-e6f2-d97838d95938"
      },
      "execution_count": 22,
      "outputs": [
        {
          "output_type": "stream",
          "name": "stdout",
          "text": [
            "Test Accuracy: 98.00%\n"
          ]
        }
      ]
    },
    {
      "cell_type": "code",
      "source": [],
      "metadata": {
        "id": "KU-tQK-zvugK"
      },
      "execution_count": 19,
      "outputs": []
    }
  ]
}